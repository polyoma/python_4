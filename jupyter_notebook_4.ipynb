{
 "cells": [
  {
   "cell_type": "code",
   "execution_count": 14,
   "metadata": {
    "collapsed": true
   },
   "outputs": [],
   "source": [
    "seq = 'ACTGAATGCT'"
   ]
  },
  {
   "cell_type": "code",
   "execution_count": 20,
   "metadata": {},
   "outputs": [],
   "source": [
    "def nucl_freq(sequence, nucleotide):\n",
    "    nucleotide_count = len([x for x in sequence if x is nucleotide])\n",
    "    sequence_lenght = len(sequence)\n",
    "    frequency = nucleotide_count/sequence_lenght\n",
    "    return(frequency)\n"
   ]
  },
  {
   "cell_type": "code",
   "execution_count": 21,
   "metadata": {},
   "outputs": [],
   "source": [
    "a_freq = nucl_freq(seq, 'A')"
   ]
  },
  {
   "cell_type": "code",
   "execution_count": 22,
   "metadata": {},
   "outputs": [
    {
     "data": {
      "text/plain": [
       "0.3"
      ]
     },
     "execution_count": 22,
     "metadata": {},
     "output_type": "execute_result"
    }
   ],
   "source": [
    "a_freq"
   ]
  },
  {
   "cell_type": "code",
   "execution_count": 45,
   "metadata": {},
   "outputs": [],
   "source": [
    "def nucl_freq_all(sequence):\n",
    "    nucleotids_frequency={}\n",
    "    nucleotids = {'A','C','G','T'}\n",
    "    for x in nucleotids:\n",
    "        nucleotids_frequency[x] = nucl_freq(sequence, x)\n",
    "    return nucleotids_frequency"
   ]
  },
  {
   "cell_type": "code",
   "execution_count": 46,
   "metadata": {},
   "outputs": [],
   "source": [
    "freqs = nucl_freq_all(seq)"
   ]
  },
  {
   "cell_type": "code",
   "execution_count": 47,
   "metadata": {},
   "outputs": [
    {
     "data": {
      "text/plain": [
       "{'A': 0.3, 'C': 0.2, 'G': 0.2, 'T': 0.3}"
      ]
     },
     "execution_count": 47,
     "metadata": {},
     "output_type": "execute_result"
    }
   ],
   "source": [
    "freqs"
   ]
  },
  {
   "cell_type": "code",
   "execution_count": 48,
   "metadata": {},
   "outputs": [],
   "source": [
    "assert nucl_freq_all('AGAG') == {'A': 0.5, 'C': 0, 'G': 0.5, 'T': 0}, 'frekvence nesedí! {}'.format(nucl_freq_all('AGCT'))\n",
    "assert nucl_freq_all('AAGG') == {'A': 0.5, 'C': 0, 'G': 0.5, 'T': 0}, 'frekvence nesedí! {}'.format(nucl_freq_all('AGCT'))\n",
    "assert nucl_freq_all('TTTTTTTTTT') == {'A': 0, 'C': 0, 'G': 0, 'T': 1}, 'frekvence nesedí! {}'.format(nucl_freq_all('AGCT'))"
   ]
  },
  {
   "cell_type": "code",
   "execution_count": 49,
   "metadata": {},
   "outputs": [],
   "source": [
    "assert nucl_freq_all('AAGGCCTT') == {'A': 0.25, 'C': 0.25, 'G': 0.25, 'T': 0.25}, 'frekvence nesedí! {}'.format(nucl_freq_all('AGCT'))"
   ]
  },
  {
   "cell_type": "code",
   "execution_count": 51,
   "metadata": {},
   "outputs": [],
   "source": [
    "assert nucl_freq_all('TTTTAAAA') == {'A': 0.5, 'C': 0, 'G': 0, 'T': 0.5}, 'frekvence nesedí! {}'.format(nucl_freq_all('AGCT'))"
   ]
  },
  {
   "cell_type": "code",
   "execution_count": 52,
   "metadata": {
    "collapsed": true
   },
   "outputs": [],
   "source": [
    "assert nucl_freq_all('ACGACGACGGGG') == {'A': 0.25, 'C': 0.25, 'G': 0.5, 'T': 0}, 'frekvence nesedí! {}'.format(nucl_freq_all('AGCT'))"
   ]
  },
  {
   "cell_type": "code",
   "execution_count": null,
   "metadata": {
    "collapsed": true
   },
   "outputs": [],
   "source": []
  }
 ],
 "metadata": {
  "kernelspec": {
   "display_name": "Python 3",
   "language": "python",
   "name": "python3"
  },
  "language_info": {
   "codemirror_mode": {
    "name": "ipython",
    "version": 3
   },
   "file_extension": ".py",
   "mimetype": "text/x-python",
   "name": "python",
   "nbconvert_exporter": "python",
   "pygments_lexer": "ipython3",
   "version": "3.6.1"
  }
 },
 "nbformat": 4,
 "nbformat_minor": 2
}
